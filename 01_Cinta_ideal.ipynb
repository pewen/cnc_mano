{
 "cells": [
  {
   "cell_type": "code",
   "execution_count": 1,
   "metadata": {
    "collapsed": false
   },
   "outputs": [],
   "source": [
    "import matplotlib.pyplot as plt\n",
    "import numpy as np\n",
    "import cv2\n",
    "\n",
    "from encodingDecoding import makeTape, decimal2encoding, encoding2binary\n",
    "\n",
    "%matplotlib inline"
   ]
  },
  {
   "cell_type": "markdown",
   "metadata": {},
   "source": [
    "## Creando la cinta"
   ]
  },
  {
   "cell_type": "code",
   "execution_count": 2,
   "metadata": {
    "collapsed": false
   },
   "outputs": [
    {
     "data": {
      "text/plain": [
       "([<matplotlib.axis.YTick at 0x7f6a0ccf9f98>,\n",
       "  <matplotlib.axis.YTick at 0x7f6a0cc9e198>,\n",
       "  <matplotlib.axis.YTick at 0x7f6a0cc98978>],\n",
       " <a list of 3 Text yticklabel objects>)"
      ]
     },
     "execution_count": 2,
     "metadata": {},
     "output_type": "execute_result"
    },
    {
     "data": {
      "image/png": "[encoded data removed]",
      "text/plain": [
       "<matplotlib.figure.Figure at 0x7f6a0ccdc8d0>"
      ]
     },
     "metadata": {},
     "output_type": "display_data"
    }
   ],
   "source": [
    "cinta = makeTape(1, 7)\n",
    "\n",
    "plt.figure(figsize=(15, 5))\n",
    "plt.imshow(cinta, cmap = plt.get_cmap('gray'))\n",
    "plt.yticks([140, 70, 0])"
   ]
  },
  {
   "cell_type": "code",
   "execution_count": 3,
   "metadata": {
    "collapsed": false
   },
   "outputs": [
    {
     "data": {
      "text/plain": [
       "True"
      ]
     },
     "execution_count": 3,
     "metadata": {},
     "output_type": "execute_result"
    }
   ],
   "source": [
    "cv2.imwrite(\"imgs/cinta.png\", cinta)"
   ]
  },
  {
   "cell_type": "markdown",
   "metadata": {},
   "source": [
    "## Contornos de la cinta"
   ]
  },
  {
   "cell_type": "code",
   "execution_count": 4,
   "metadata": {
    "collapsed": true
   },
   "outputs": [],
   "source": [
    "# Leo la cinta\n",
    "# el 0 es para que carge la imagen en escala de grises\n",
    "cinta = cv2.imread('imgs/cinta.png', 0)"
   ]
  },
  {
   "cell_type": "code",
   "execution_count": 5,
   "metadata": {
    "collapsed": false
   },
   "outputs": [
    {
     "data": {
      "text/plain": [
       "([<matplotlib.axis.YTick at 0x7f6a0cc21a58>,\n",
       "  <matplotlib.axis.YTick at 0x7f6a0cc33630>,\n",
       "  <matplotlib.axis.YTick at 0x7f6a0cc28550>],\n",
       " <a list of 3 Text yticklabel objects>)"
      ]
     },
     "execution_count": 5,
     "metadata": {},
     "output_type": "execute_result"
    },
    {
     "data": {
      "image/png": "[encoded data removed]",
      "text/plain": [
       "<matplotlib.figure.Figure at 0x7f6a0ccf99e8>"
      ]
     },
     "metadata": {},
     "output_type": "display_data"
    }
   ],
   "source": [
    "# Paso un threshold\n",
    "# Esto va a ser util para despues separar la madera de la cinta\n",
    "ret, thresh = cv2.threshold(cinta, 250, 255, 0)\n",
    "\n",
    "plt.figure(figsize=(15, 5))\n",
    "plt.imshow(thresh, cmap = plt.get_cmap('gray'))\n",
    "plt.yticks(np.arange(140, -1, -70))"
   ]
  },
  {
   "cell_type": "code",
   "execution_count": 6,
   "metadata": {
    "collapsed": false
   },
   "outputs": [
    {
     "data": {
      "text/plain": [
       "(20, 20)"
      ]
     },
     "execution_count": 6,
     "metadata": {},
     "output_type": "execute_result"
    }
   ],
   "source": [
    "# Encuentro los contornos\n",
    "image, contours, hierarchy = cv2.findContours(thresh, cv2.RETR_TREE, cv2.CHAIN_APPROX_SIMPLE)\n",
    "\n",
    "len(contours), len(hierarchy[0])"
   ]
  },
  {
   "cell_type": "code",
   "execution_count": 7,
   "metadata": {
    "collapsed": false
   },
   "outputs": [
    {
     "data": {
      "text/plain": [
       "([], <a list of 0 Text yticklabel objects>)"
      ]
     },
     "execution_count": 7,
     "metadata": {},
     "output_type": "execute_result"
    },
    {
     "data": {
      "image/png": "[encoded data removed]",
      "text/plain": [
       "<matplotlib.figure.Figure at 0x7f6a0cc28320>"
      ]
     },
     "metadata": {},
     "output_type": "display_data"
    }
   ],
   "source": [
    "# Grafico la imagen y todos los contornos\n",
    "plt.figure(figsize=(15, 5))\n",
    "plt.imshow(cinta, interpolation='nearest', cmap=plt.cm.gray)\n",
    "\n",
    "for contour in contours:    \n",
    "    plt.plot(contour[:,0, :][:, 0], contour[:,0, :][:, 1], '-b', linewidth=2)\n",
    "\n",
    "plt.axis('image')\n",
    "plt.xticks([])\n",
    "plt.yticks([])"
   ]
  },
  {
   "cell_type": "markdown",
   "metadata": {},
   "source": [
    "## Conteo de elementos"
   ]
  },
  {
   "cell_type": "code",
   "execution_count": 8,
   "metadata": {
    "collapsed": false
   },
   "outputs": [
    {
     "name": "stdout",
     "output_type": "stream",
     "text": [
      "3 red\n",
      "2 green\n",
      "2 black\n",
      "1 c\n",
      "2 y\n",
      "1 m\n",
      "1 k\n"
     ]
    },
    {
     "data": {
      "text/plain": [
       "([], <a list of 0 Text yticklabel objects>)"
      ]
     },
     "execution_count": 8,
     "metadata": {},
     "output_type": "execute_result"
    },
    {
     "data": {
      "image/png": "[encoded data removed]",
      "text/plain": [
       "<matplotlib.figure.Figure at 0x7f6a0cc21630>"
      ]
     },
     "metadata": {},
     "output_type": "display_data"
    }
   ],
   "source": [
    "# Cuento la cantidad de cuadraditos blancos dentro de cada rectangulo\n",
    "plt.figure(figsize=(15, 5))\n",
    "plt.imshow(cinta, interpolation='nearest', cmap=plt.cm.gray)\n",
    "\n",
    "colors = ['red', 'green', 'black', 'c', 'y', 'm', 'k']\n",
    "\n",
    "# numero de contorno de todos los rectangulos\n",
    "rectangles_number = set([val for val in hierarchy[0][:,-1] if val not in [-1, 0]])\n",
    "\n",
    "for num, rectangle in enumerate(rectangles_number):\n",
    "    \n",
    "    # solo me quedo con los cuadrados que pertenecen a un rectangulo dado\n",
    "    squares = [num for num, val in enumerate(hierarchy[0]) if val[-1] == rectangle]\n",
    "    print(len(squares), colors[num])\n",
    "\n",
    "    # plot\n",
    "    for square in squares:\n",
    "        plt.plot(contours[square][:,0, :][:, 0], contours[square][:,0, :][:, 1], colors[num], linewidth=2)\n",
    "\n",
    "plt.axis('image')\n",
    "plt.xticks([])\n",
    "plt.yticks([])"
   ]
  },
  {
   "cell_type": "markdown",
   "metadata": {},
   "source": [
    "## Reconociendo el codificado de un elemento\n",
    "\n",
    "Decodificando de la imagen al valor en decimal"
   ]
  },
  {
   "cell_type": "code",
   "execution_count": 9,
   "metadata": {
    "collapsed": false
   },
   "outputs": [],
   "source": [
    "# Creo un solo elemento de la cinta\n",
    "encode10 = decimal2encoding(10)\n",
    "cv2.imwrite(\"imgs/code10.png\", encode10)\n",
    "\n",
    "code10 = cv2.imread('imgs/code10.png', 0)"
   ]
  },
  {
   "cell_type": "code",
   "execution_count": 10,
   "metadata": {
    "collapsed": false
   },
   "outputs": [],
   "source": [
    "# Leo la imagen y le calculo el contorno\n",
    "ret, thresh = cv2.threshold(code10, 250, 255, 0)\n",
    "image, contours, hierarchy = cv2.findContours(thresh, cv2.RETR_TREE, cv2.CHAIN_APPROX_SIMPLE)\n",
    "rect = cv2.minAreaRect(contours[0])\n",
    "box = cv2.boxPoints(rect)"
   ]
  },
  {
   "cell_type": "code",
   "execution_count": 11,
   "metadata": {
    "collapsed": false
   },
   "outputs": [
    {
     "data": {
      "text/plain": [
       "([<matplotlib.axis.XTick at 0x7f6a0cbe4908>,\n",
       "  <matplotlib.axis.XTick at 0x7f6a0cae96d8>,\n",
       "  <matplotlib.axis.XTick at 0x7f6a0cb03eb8>,\n",
       "  <matplotlib.axis.XTick at 0x7f6a0ca64048>,\n",
       "  <matplotlib.axis.XTick at 0x7f6a0ca64c18>,\n",
       "  <matplotlib.axis.XTick at 0x7f6a0ca64080>,\n",
       "  <matplotlib.axis.XTick at 0x7f6a0ca697f0>,\n",
       "  <matplotlib.axis.XTick at 0x7f6a0ca6c240>,\n",
       "  <matplotlib.axis.XTick at 0x7f6a0ca6cc50>,\n",
       "  <matplotlib.axis.XTick at 0x7f6a0ca716a0>,\n",
       "  <matplotlib.axis.XTick at 0x7f6a0ca740f0>,\n",
       "  <matplotlib.axis.XTick at 0x7f6a0ca74b00>],\n",
       " <a list of 12 Text xticklabel objects>)"
      ]
     },
     "execution_count": 11,
     "metadata": {},
     "output_type": "execute_result"
    },
    {
     "data": {
      "image/png": "[encoded data removed]",
      "text/plain": [
       "<matplotlib.figure.Figure at 0x7f6a0cc040b8>"
      ]
     },
     "metadata": {},
     "output_type": "display_data"
    }
   ],
   "source": [
    "# Centro de los cuadrados\n",
    "\n",
    "x_offset = 30\n",
    "y_offset = 30\n",
    "delta_x = 40\n",
    "delta_y = 40\n",
    "x = [x_offset+delta_x*i for i in range(5)]\n",
    "y1 = [30 for i in range(len(x))]\n",
    "y2 = [70 for i in range(len(x))]\n",
    "\n",
    "# Plot\n",
    "fig, ax = plt.subplots()\n",
    "ax.imshow(code10, cmap = plt.get_cmap('gray'))\n",
    "\n",
    "ax.plot(x, y1, '-o', x, y2, '-o')\n",
    "\n",
    "plt.yticks(np.arange(100, 0, -20))\n",
    "plt.xticks(np.arange(0, 240, 20))"
   ]
  },
  {
   "cell_type": "code",
   "execution_count": 12,
   "metadata": {
    "collapsed": false
   },
   "outputs": [
    {
     "data": {
      "text/plain": [
       "'0000001010'"
      ]
     },
     "execution_count": 12,
     "metadata": {},
     "output_type": "execute_result"
    }
   ],
   "source": [
    "# Codificacion binaria\n",
    "binary = encoding2binary(code10, box)\n",
    "binary"
   ]
  },
  {
   "cell_type": "markdown",
   "metadata": {},
   "source": [
    "### Rotando la imagen codificada"
   ]
  },
  {
   "cell_type": "code",
   "execution_count": 13,
   "metadata": {
    "collapsed": false
   },
   "outputs": [
    {
     "data": {
      "text/plain": [
       "<matplotlib.image.AxesImage at 0x7f6a0cc01128>"
      ]
     },
     "execution_count": 13,
     "metadata": {},
     "output_type": "execute_result"
    },
    {
     "data": {
      "image/png": "[encoded data removed]",
      "text/plain": [
       "<matplotlib.figure.Figure at 0x7f6a0cc987b8>"
      ]
     },
     "metadata": {},
     "output_type": "display_data"
    }
   ],
   "source": [
    "rows, cols = code10.shape\n",
    "\n",
    "M = cv2.getRotationMatrix2D((cols/2, rows/2), 180, 1)\n",
    "code10_rot = cv2.warpAffine(code10, M, (cols, rows))\n",
    "\n",
    "fig, ax = plt.subplots()\n",
    "ax.imshow(code10_rot, cmap = plt.get_cmap('gray'))"
   ]
  },
  {
   "cell_type": "code",
   "execution_count": 14,
   "metadata": {
    "collapsed": false
   },
   "outputs": [
    {
     "data": {
      "text/plain": [
       "'0000001010'"
      ]
     },
     "execution_count": 14,
     "metadata": {},
     "output_type": "execute_result"
    }
   ],
   "source": [
    "# Codificacion binaria de la imagen rotada\n",
    "binary = encoding2binary(code10_rot, box)\n",
    "binary"
   ]
  },
  {
   "cell_type": "markdown",
   "metadata": {},
   "source": [
    "## Codoficando toda la cinta"
   ]
  },
  {
   "cell_type": "code",
   "execution_count": 15,
   "metadata": {
    "collapsed": false
   },
   "outputs": [],
   "source": [
    "cinta = cv2.imread('imgs/cinta.png', 0)\n",
    "ret, thresh = cv2.threshold(cinta, 250, 255, 0)\n",
    "image, contours, hierarchy = cv2.findContours(thresh, cv2.RETR_TREE, cv2.CHAIN_APPROX_SIMPLE)"
   ]
  },
  {
   "cell_type": "code",
   "execution_count": 16,
   "metadata": {
    "collapsed": false
   },
   "outputs": [
    {
     "data": {
      "text/plain": [
       "([], <a list of 0 Text yticklabel objects>)"
      ]
     },
     "execution_count": 16,
     "metadata": {},
     "output_type": "execute_result"
    },
    {
     "data": {
      "image/png": "[encoded data removed]",
      "text/plain": [
       "<matplotlib.figure.Figure at 0x7f6a0ca229b0>"
      ]
     },
     "metadata": {},
     "output_type": "display_data"
    }
   ],
   "source": [
    "# numero de contorno de todos los rectangulos\n",
    "rectangles_number = [num for num, val in enumerate(hierarchy[0]) if val[-1] == 0]\n",
    "\n",
    "plt.figure(figsize=(15, 5))\n",
    "plt.imshow(cinta, cmap = plt.get_cmap('gray'))\n",
    "\n",
    "for num in rectangles_number:\n",
    "    rect = cv2.minAreaRect(contours[num])\n",
    "    box = cv2.boxPoints(rect)\n",
    "    \n",
    "    x_val = [int(min(box[:, 0])), int(max(box[:, 0]))]\n",
    "    y_val = [int(min(box[:, 1])), int(max(box[:, 1]))]\n",
    "    \n",
    "    binario = encoding2binary(cinta[y_val[0]:y_val[1], x_val[0]:x_val[1]], box)\n",
    "    plt.text(x_val[0], y_val[0], str(int(binario, 2)), color='red')\n",
    "    \n",
    "plt.axis('image')\n",
    "plt.xticks([])\n",
    "plt.yticks([])"
   ]
  },
  {
   "cell_type": "code",
   "execution_count": null,
   "metadata": {
    "collapsed": true
   },
   "outputs": [],
   "source": []
  }
 ],
 "metadata": {
  "anaconda-cloud": {},
  "kernelspec": {
   "display_name": "Python [conda root]",
   "language": "python",
   "name": "conda-root-py"
  },
  "language_info": {
   "codemirror_mode": {
    "name": "ipython",
    "version": 3
   },
   "file_extension": ".py",
   "mimetype": "text/x-python",
   "name": "python",
   "nbconvert_exporter": "python",
   "pygments_lexer": "ipython3",
   "version": "3.5.2"
  }
 },
 "nbformat": 4,
 "nbformat_minor": 1
}
